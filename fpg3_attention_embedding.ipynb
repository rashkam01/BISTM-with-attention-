{
 "cells": [
  {
   "cell_type": "markdown",
   "metadata": {},
   "source": [
    "# BILSTM with attention mechnism for relation classification"
   ]
  },
  {
   "cell_type": "markdown",
   "metadata": {},
   "source": [
    "In an automotive part manufacturing industry, there is possibility of product recalls due to a variety of reasons. Some of the reasons include internal or external part damage, mistakes in packaging process, poor internal management etc. However, identifying quality defects is often the most difficult and the most critical for the producer. \n",
    "\n",
    "There are various problem solving process to handle product returns. A problem is defined as a deviation from a defined target situation, there are many ways to for problem solving and one such method of problem solving is 8D process, it defines 8 steps which includes not just solving the problem but also a root cause analysis so that the problem does not reoccur again and also a containment action to limit the problem and resume normal operations. However, each and every product already has an fmea, an fmea pre-defines defines risk analysis, or the probable risk and failures a product can have, and there is a possiblity the the root cause might be defined in FMEA. \n",
    "\n",
    "Since, most of it is in textual format and need domain expertise to search through an FMEA or perform a root cause analysis of the problem from scratch. Therefore, structuring of fmea contents can significantly improve the quality of 8D process and can also act as the basis for other applications. \n",
    "\n",
    "A common approach for structuring of documents is to build a Named-entity recognition model for detecting the parts and subparts in each and every sentence of an fmea document. An addition to named entity recognition is also relationship extraction where we identify the relation of potential failure or function of the entity. \n",
    "\n",
    "### For example \"Grease seals of motor interior.\" \n",
    "In this case \"Grease\" is identified as an entity also \"motor interior\" is also an subpart of the motor. \n",
    "This has a cause effect relationship, which means \"Grease\" has a sealing effect on \"motor Interior\". \n",
    "Therefore, relation extraction task will extract, \n",
    "\n",
    "Cause-effect(Grease,motor interior) \n",
    "Here, is an attempt to build an end-to-end entity and relationship extraction. "
   ]
  },
  {
   "cell_type": "code",
   "execution_count": null,
   "metadata": {},
   "outputs": [],
   "source": [
    "# import pandas as pd\n",
    "from lxml import etree\n",
    "import xml.etree.ElementTree as ET\n",
    "import csv\n",
    "\n",
    "#data = \"C:/Path/test.xml\"\n",
    "\n",
    "data = \"C:/Users/akr2bue/pythonscript/mypythondata/bearingbolt.xml\"\n",
    "tree = ET.parse(data)\n",
    "root = tree.getroot()"
   ]
  },
  {
   "cell_type": "markdown",
   "metadata": {},
   "source": [
    "The FMEA is written in special software called IQRM, which consist of all the necessary fields to write the document. \n",
    "The first task was to export the FMEA into an XML file.\n",
    "Then the reference number for each of the failure sentence and the sentence itself was converted into a csv file. "
   ]
  },
  {
   "cell_type": "code",
   "execution_count": null,
   "metadata": {},
   "outputs": [],
   "source": [
    "allbearingdata = open('C:/Users/akr2bue/pythonscript/mypythondata/bearingcsvfuncfault2.csv', 'w')\n",
    "csvwriter = csv.writer(allbearingdata)\n",
    "resident_head = [] \n",
    "\n",
    "count = 0\n",
    "funccount =0 \n",
    "for member in root.findall('FM-FUNCTIONS'):\n",
    "    address_list = []\n",
    "    resident = [] \n",
    "    longname = []\n",
    "    funcid = []\n",
    "    if count == 0:\n",
    "        struct = (\"Function Key\")\n",
    "        resident_head.append(struct)\n",
    "        structtext = (\"Function text \")\n",
    "        resident_head.append(structtext)\n",
    "        Funkey = (\"Fault Key\")\n",
    "        resident_head.append(Funkey)\n",
    "        #funid = (\"Function ID\")\n",
    "        csvwriter.writerow(resident_head)\n",
    "        count = count + 1\n",
    "        \n",
    "    for member in root.iter('FM-FUNCTION'):\n",
    "        struidnum = member.get('ID')\n",
    "        #resident.append(struidnum)\n",
    "        for member1 in member.iter('LONG-NAME'):\n",
    "            abc = member1.find('L-4').text\n",
    "            #resident.append(abc)\n",
    "            for member2 in member.iter('FM-FAULT-REFS'):\n",
    "                for member3 in member2.iter('FM-FAULT-REF'):\n",
    "                    bnd = member3.get('ID-REF')\n",
    "                    resident.append(struidnum)\n",
    "                    resident.append(abc)\n",
    "                    resident.append(bnd)\n",
    "                    #funccount = funccount + 1\n",
    "                    csvwriter.writerow(resident)\n",
    "                    resident = []\n",
    "                if funccount > 0:\n",
    "                    break\n",
    "allbearingdata.close()"
   ]
  },
  {
   "cell_type": "markdown",
   "metadata": {},
   "source": [
    "The file was preprocess to include sentence, the 2 entities contained in the sentence and the relationship between the entities. "
   ]
  },
  {
   "cell_type": "code",
   "execution_count": 214,
   "metadata": {},
   "outputs": [],
   "source": [
    "with open(\"fpg3_test_v2_2208.tsv\") as f:\n",
    "    test_file = f.readlines()"
   ]
  },
  {
   "cell_type": "markdown",
   "metadata": {},
   "source": [
    "It is important to note that, initially an attempt was made to create ontology based on the sentences in fmea. \n",
    "### For example \"FPG3-quadripole drive converts the electrical power to mechanical power with an objective to provide the defined rotation speed\" \n",
    "Here FPG3-quadripole drive is \"entity 1\" and \"mechanical power\" is \"entity 2\", the relation is that of a producer and a product. As mechanical power is generated from quadripole drive. \n",
    "Due, to lack of existing ontology an end-to-end model was defined such that both the entities and also the relationship between them needs to be extracted. "
   ]
  },
  {
   "cell_type": "code",
   "execution_count": 215,
   "metadata": {},
   "outputs": [
    {
     "name": "stdout",
     "output_type": "stream",
     "text": [
      "['1\\t<e1> FPG3-quadripole </e1> drive converts the electrical power to <e2> mechanical power </e2> with an objective to provide the defined rotation speed of the rope drum in case of defined operational torque (characteristic curve).\\tProduct-Producer\\n', '3\\tFPG3-quadripole drive converts the electrical power to <e1> mechanical power </e1> with an objective to provide the defined rotation speed of the rope drum in case of defined <e2> operational torque </e2> (characteristic curve).\\tProduct-Producer\\n', '4\\tFPG3-quadripole drive converts the <e1> electrical power </e1> to mechanical power with an objective to provide the defined rotation speed of the rope drum in case of defined operational torque (characteristic curve).\\tCause-Effect\\n', '5\\t<e1> FPG3-quadripole </e1> drive generates a <e2> rotary movement </e2> in a defined direction depending on the polarity of input voltage (rotation direction standards)\\tProduct-Producer\\n', '6\\tFPG3-quadripole drive generates a rotary movement in a defined <e1> direction </e1> depending on the <e2> polarity </e2> of input voltage (rotation <e1> direction </e1> standards)\\tCause-Effect\\n']\n"
     ]
    }
   ],
   "source": [
    "from itertools import islice\n",
    "with open(\"fpg3_test_v2_2208.tsv\") as myfile:\n",
    "    head = list(islice(test_file, 5))\n",
    "print(head)"
   ]
  },
  {
   "cell_type": "markdown",
   "metadata": {},
   "source": [
    "Above shows sentence and relation between entities, Below we prepare sentences and relations training file. "
   ]
  },
  {
   "cell_type": "code",
   "execution_count": 216,
   "metadata": {},
   "outputs": [],
   "source": [
    "def prepare_dataset_sen(raw_data):\n",
    "    sentences = []\n",
    "    for l in raw_data:\n",
    "        sl = l.split(\"\\t\")\n",
    "        if sl[0].isdigit():\n",
    "            sent = sl[1]\n",
    "            sentences.append(sent)\n",
    "    print(\"Found {} sentences\".format(len(sentences)))\n",
    "    return sentences"
   ]
  },
  {
   "cell_type": "code",
   "execution_count": 217,
   "metadata": {},
   "outputs": [],
   "source": [
    "def prepare_dataset_rel(raw_data):\n",
    "    relations =  []\n",
    "    for line in raw_data:\n",
    "        sl = line.split(\"\\t\")\n",
    "        if sl[0].isdigit():\n",
    "            rel = sl[2]\n",
    "            rel = rel.replace(\"\\n\", \"\")\n",
    "            relations.append(rel)\n",
    "    print(\"Found {} relations\".format(len(relations)))\n",
    "    return relations"
   ]
  },
  {
   "cell_type": "markdown",
   "metadata": {},
   "source": [
    "Here we obtain all the sentences using prepare_dataset_sen method"
   ]
  },
  {
   "cell_type": "code",
   "execution_count": 218,
   "metadata": {},
   "outputs": [
    {
     "name": "stdout",
     "output_type": "stream",
     "text": [
      "Found 233 sentences\n"
     ]
    }
   ],
   "source": [
    "test_sent = prepare_dataset_sen(test_file)"
   ]
  },
  {
   "cell_type": "markdown",
   "metadata": {},
   "source": [
    "Here we obtain all the sentences using prepare_dataset_rel method"
   ]
  },
  {
   "cell_type": "code",
   "execution_count": 219,
   "metadata": {},
   "outputs": [
    {
     "name": "stdout",
     "output_type": "stream",
     "text": [
      "Found 233 relations\n"
     ]
    }
   ],
   "source": [
    "test_rel = prepare_dataset_rel(test_file)"
   ]
  },
  {
   "cell_type": "markdown",
   "metadata": {},
   "source": [
    "The number of relations and type of relations can be seen here "
   ]
  },
  {
   "cell_type": "code",
   "execution_count": 220,
   "metadata": {},
   "outputs": [
    {
     "name": "stdout",
     "output_type": "stream",
     "text": [
      "Found 4 relations\n",
      "\n",
      "Relations:\n",
      "['Cause-Effect', 'Product-Producer', 'Component-Whole', 'Entity-Destination']\n"
     ]
    }
   ],
   "source": [
    "n_rel_test_file = len(set(test_rel))\n",
    "print(\"Found {} relations\\n\".format(n_rel_test_file))\n",
    "print(\"Relations:\\n{}\".format(list(set(test_rel))))"
   ]
  },
  {
   "cell_type": "markdown",
   "metadata": {},
   "source": [
    "Due to lack of training dataset, we use public data set for semantic relation between pairs of nominals \n",
    "https://github.com/teffland/Relation-Extraction/tree/master/SemEval2010_task8_all_data \n",
    "Considering our test set can only be classified into the above 4 relation we filter the training dataset to only keep the 4 relations namely 'Cause-Effect', 'Product-Producer', 'Component-Whole', 'Entity-Destination' "
   ]
  },
  {
   "cell_type": "code",
   "execution_count": 221,
   "metadata": {},
   "outputs": [],
   "source": [
    "with open(\"semv_train_sm_2208.tsv\") as f:\n",
    "    train_file = f.readlines()"
   ]
  },
  {
   "cell_type": "code",
   "execution_count": 222,
   "metadata": {},
   "outputs": [
    {
     "name": "stdout",
     "output_type": "stream",
     "text": [
      "['1\\tThe system as described above has its greatest application in an arrayed <e1>configuration</e1> of antenna <e2>elements</e2>\\tComponent-Whole\\n', '7\\tThe current view is that the chronic <e1>inflammation</e1> in the distal part of the stomach caused by Helicobacter pylori <e2>infection</e2> results in an increased acid production from the non-infected upper corpus region of the stomach\\tCause-Effect\\n', '8\\t<e1>People</e1> have been moving back into <e2>downtown</e2>\\tEntity-Destination\\n', '10\\tThe solute was placed inside a beaker and 5 mL of the <e1>solvent</e1> was pipetted into a 25 mL glass <e2>flask</e2> for each trial\\tEntity-Destination\\n', '14\\tThe <e1>burst</e1> has been caused by water hammer <e2>pressure</e2>\\tCause-Effect\\n']\n"
     ]
    }
   ],
   "source": [
    "from itertools import islice\n",
    "with open(\"semv_train_sm_2208.tsv\") as myfile:\n",
    "    head = list(islice(train_file, 5))\n",
    "print(head)"
   ]
  },
  {
   "cell_type": "code",
   "execution_count": 223,
   "metadata": {},
   "outputs": [],
   "source": [
    "def prepare_dataset_sen_train(raw_data):\n",
    "    sentences = []\n",
    "    for l in raw_data:\n",
    "        sl = l.split(\"\\t\")\n",
    "        if sl[0].isdigit():\n",
    "            sent = sl[1]\n",
    "            sentences.append(sent)\n",
    "    print(\"Found {} sentences\".format(len(sentences)))\n",
    "    return sentences"
   ]
  },
  {
   "cell_type": "code",
   "execution_count": 224,
   "metadata": {},
   "outputs": [],
   "source": [
    "def prepare_dataset_rel_train(raw_data):\n",
    "    relations =  []\n",
    "    for line in raw_data:\n",
    "        sl = line.split(\"\\t\")\n",
    "        if sl[0].isdigit():\n",
    "            rel = sl[2]\n",
    "            rel = rel.replace(\"\\n\", \"\")\n",
    "            relations.append(rel)\n",
    "    print(\"Found {} relations\".format(len(relations)))\n",
    "    return relations"
   ]
  },
  {
   "cell_type": "markdown",
   "metadata": {},
   "source": [
    "We consider a total of 3391 sentences for training "
   ]
  },
  {
   "cell_type": "code",
   "execution_count": 225,
   "metadata": {},
   "outputs": [
    {
     "name": "stdout",
     "output_type": "stream",
     "text": [
      "Found 3391 sentences\n"
     ]
    }
   ],
   "source": [
    "train_sent = prepare_dataset_sen_train(train_file)"
   ]
  },
  {
   "cell_type": "code",
   "execution_count": null,
   "metadata": {},
   "outputs": [],
   "source": [
    "train_rel = prepare_dataset_rel_train(train_file)"
   ]
  },
  {
   "cell_type": "code",
   "execution_count": 227,
   "metadata": {},
   "outputs": [
    {
     "name": "stdout",
     "output_type": "stream",
     "text": [
      "Component-Whole\n"
     ]
    }
   ],
   "source": [
    "#checking relations of sentence at position 1 \n",
    "print(train_rel[0])"
   ]
  },
  {
   "cell_type": "code",
   "execution_count": 228,
   "metadata": {},
   "outputs": [
    {
     "name": "stdout",
     "output_type": "stream",
     "text": [
      "Found 4 relations\n",
      "\n",
      "Relations:\n",
      "['Cause-Effect', 'Product-Producer', 'Entity-Destination', 'Component-Whole']\n"
     ]
    }
   ],
   "source": [
    "#printing all the relations from training dataset, we see that our filter has kept,\n",
    "#only the relations which are relevant\n",
    "n_relations = len(set(train_rel))\n",
    "print(\"Found {} relations\\n\".format(n_relations))\n",
    "print(\"Relations:\\n{}\".format(list(set(train_rel))))"
   ]
  },
  {
   "cell_type": "markdown",
   "metadata": {},
   "source": [
    "Importing packages "
   ]
  },
  {
   "cell_type": "code",
   "execution_count": 229,
   "metadata": {},
   "outputs": [],
   "source": [
    "from __future__ import print_function, division\n",
    "from keras.layers import Dense, LSTM, Dropout, Embedding, SpatialDropout1D, Bidirectional, concatenate, InputSpec"
   ]
  },
  {
   "cell_type": "code",
   "execution_count": 230,
   "metadata": {},
   "outputs": [],
   "source": [
    "from sklearn.base import BaseEstimator, TransformerMixin"
   ]
  },
  {
   "cell_type": "code",
   "execution_count": 231,
   "metadata": {},
   "outputs": [],
   "source": [
    "import os\n",
    "import sys\n",
    "import numpy as np\n",
    "import pandas as pd\n",
    "import regex as re\n",
    "import pickle\n",
    "import matplotlib.pyplot as plt\n",
    "from keras import backend as K\n",
    "from keras.engine.topology import Layer\n",
    "from keras.models import Model, Input\n",
    "from sklearn.metrics import roc_auc_score\n",
    "from keras.layers import GlobalAveragePooling1D, GlobalMaxPooling1D\n",
    "from keras.optimizers import Adam, RMSprop\n",
    "from keras.preprocessing.text import Tokenizer\n",
    "from keras.preprocessing.sequence import pad_sequences\n",
    "from sklearn.metrics import accuracy_score\n",
    "from sklearn.preprocessing import MultiLabelBinarizer, LabelEncoder\n",
    "from builtins import range\n",
    "from keras import initializers as initializers, regularizers, constraints"
   ]
  },
  {
   "cell_type": "markdown",
   "metadata": {},
   "source": [
    "Code is commented to explain the parts "
   ]
  },
  {
   "cell_type": "code",
   "execution_count": 232,
   "metadata": {},
   "outputs": [],
   "source": [
    "class RelationClassifier(BaseEstimator, TransformerMixin):\n",
    "    #class which takes raw input to perform relation classification \n",
    "    \n",
    "    def __init__(self, maximum_words=30000, input_length=50, embedding_dim=50, n_rel=4):\n",
    "        #defining input length, maximum word in vocabulary, embedding dimension for word vectors, and relations \n",
    "        self.max_words = maximum_words\n",
    "        self.input_length = input_length\n",
    "        self.emb_dim = embedding_dim\n",
    "        self.n_classes = n_rel\n",
    "        self.return_attention = True\n",
    "        self.model = self._get_model()\n",
    "        self.encoder = LabelEncoder()\n",
    "        self.tokenizer = Tokenizer(num_words=self.max_words+1, filters='!\"#$%&()*+,-.:;=?@[\\\\]^_`{|}~\\t\\n', lower=True, split=' ', oov_token=\"UNK\")\n",
    "    \n",
    "    def _get_model(self):\n",
    "        \n",
    "        d = 0.5\n",
    "        rd = 0.5\n",
    "        rnn_units = 128\n",
    "        raw_input_text = Input((self.input_length,)) # take raw input \n",
    "        # embedding layer with according to specified embedding dimensions  \n",
    "        embedding_layer = Embedding(input_dim=self.max_words + 2, output_dim=self.emb_dim,\n",
    "                                   input_length=self.input_length, mask_zero=True)(raw_input_text) \n",
    "        for_dropout = SpatialDropout1D(0.5)(embedding_layer)\n",
    "        #bidirectional Long short term memory \n",
    "        bilstm_layer = Bidirectional(LSTM(units=rnn_units, return_sequences=True, dropout=d,\n",
    "                                    recurrent_dropout=rd))(for_dropout)\n",
    "        x_drop, attn = AttentionMech(return_attention=True)(bilstm_layer)\n",
    "        x_drop = Dropout(0.5)(x_drop)\n",
    "        # softmax activation as each sentence needs to be classified as one of the relations  \n",
    "        out = Dense(units=self.n_classes, activation=\"softmax\")(x_drop)\n",
    "        model = Model(raw_input_text, out)\n",
    "        return model\n",
    "    \n",
    "    def _get_attention_map(self, texts):\n",
    "        attoutput_model = self.model.layers[0:-2]\n",
    "        att_m = Model(attoutput_model[0].input, attoutput_model[-1].output)\n",
    "        att_m.compile(optimizer=RMSprop(),\n",
    "                          loss=\"sparse_categorical_crossentropy\",\n",
    "                          metrics=[\"accuracy\"])\n",
    "        return att_m.predict(self._get_sequences(texts))[1]\n",
    "    \n",
    "    def _get_sequences(self, texts):\n",
    "        seqs = self.tokenizer.texts_to_sequences(texts)\n",
    "        return pad_sequences(seqs, maxlen=self.input_length,\n",
    "                             value=0, padding='post', truncating='post')\n",
    "    \n",
    "    def _labels(self, labels):\n",
    "        return self.encoder.transform(labels)\n",
    "    \n",
    "    def fit(self, X, y, X_val=None, y_val=None, lr=0.001, resume=False,\n",
    "            epochs=10, batch_size=32):\n",
    "\n",
    "        self.model.compile(optimizer=RMSprop(clipnorm=10., lr=lr),\n",
    "                           loss=\"sparse_categorical_crossentropy\",\n",
    "                           metrics=[\"accuracy\"])\n",
    "        \n",
    "        if not resume:\n",
    "            self.tokenizer.fit_on_texts(X)\n",
    "            self.encoder.fit(y)\n",
    "            self.tokenizer.word_index = {e: i for e,i in self.tokenizer.word_index.items() if i <= self.max_words}\n",
    "            self.tokenizer.word_index[self.tokenizer.oov_token] = self.max_words + 1\n",
    "        else:\n",
    "            print(\"Resuming training...\")\n",
    "        seqs = self._get_sequences(X)\n",
    "        categorical_y = self._labels(y)\n",
    "        print(\"Fit text model with {} classes\".format(len(self.encoder.classes_)))\n",
    "        if X_val:\n",
    "            val_seqs = self._get_sequences(X_val)\n",
    "            categorical_y_val = self._labels(y_val)\n",
    "            self.model.fit(seqs, categorical_y, batch_size=batch_size,\n",
    "                           epochs=epochs, validation_data=(val_seqs, categorical_y_val))\n",
    "        else:\n",
    "            self.model.fit(seqs, categorical_y, batch_size=batch_size,\n",
    "                           epochs=epochs, validation_split=0.1)\n",
    "    \n",
    "    def predict_proba(self, X, y=None):\n",
    "        return self.model.predict(self._get_sequences(X))\n",
    "    \n",
    "    def predict(self, X, y=None):\n",
    "        return np.argmax(self.predict_proba(X), axis=1)\n",
    "    \n",
    "    def save(self, path=\"model\"):                               \n",
    "        self.model.save_weights('{}_weights.h5'.format(path))          \n",
    "        with open(\"{}_index.pkl\".format(path), \"wb\") as f:                      \n",
    "            pickle.dump([self.encoder, self.tokenizer, self.max_words,\n",
    "                         self.emb_dim, self.input_length, self.n_classes], f)         \n",
    "            \n",
    "    def load(self, path=\"model\"):                                                              \n",
    "        with open(\"{}_index.pkl\".format(path), \"rb\") as f:\n",
    "            self.encoder, self.tokenizer, self.max_words, self.emb_dim, self.input_length, self.n_classes = pickle.load(f)                                                                     \n",
    "        self.model = self._get_model()                                           \n",
    "        self.model.load_weights('{}_weights.h5'.format(path))"
   ]
  },
  {
   "cell_type": "markdown",
   "metadata": {},
   "source": [
    "Unique attention mechanism as proposed in following paper for relation classification \n",
    "https://www.aclweb.org/anthology/P16-2034"
   ]
  },
  {
   "cell_type": "code",
   "execution_count": 233,
   "metadata": {},
   "outputs": [],
   "source": [
    "class AttentionMech(Layer):\n",
    "\n",
    "\n",
    "    def __init__(self, return_attention=False, **kwargs):\n",
    "        self.init = initializers.get('uniform')\n",
    "        self.supports_masking = True\n",
    "        self.return_attention = return_attention\n",
    "        super(AttentionMech, self).__init__(** kwargs)\n",
    "\n",
    "    def build(self, input_shape):\n",
    "        self.input_spec = [InputSpec(ndim=3)]\n",
    "        assert len(input_shape) == 3\n",
    "\n",
    "        self.w = self.add_weight(shape=(input_shape[2], 1),\n",
    "                                 name='{}_w'.format(self.name),\n",
    "                                 initializer=self.init)\n",
    "        self.trainable_weights = [self.w]\n",
    "        super(AttentionMech, self).build(input_shape)\n",
    "\n",
    "    def call(self, h, mask=None):\n",
    "        h_shape = K.shape(h)\n",
    "        d_w, T = h_shape[0], h_shape[1]\n",
    "        \n",
    "        logits = K.dot(h, self.w)  # w^T h\n",
    "        logits = K.reshape(logits, (d_w, T))\n",
    "        alpha = K.exp(logits - K.max(logits, axis=-1, keepdims=True))  # exp\n",
    "        \n",
    "        \n",
    "        if mask is not None:\n",
    "            mask = K.cast(mask, K.floatx())\n",
    "            alpha = alpha * mask\n",
    "        alpha = alpha / K.sum(alpha, axis=1, keepdims=True) # softmax\n",
    "        r = K.sum(h * K.expand_dims(alpha), axis=1)  # r = h*alpha^T\n",
    "        h_star = K.tanh(r)  # h^* = tanh(r)\n",
    "        if self.return_attention:\n",
    "            return [h_star, alpha]\n",
    "        return h_star\n",
    "\n",
    "    def get_output_shape_for(self, input_shape):\n",
    "        return self.compute_output_shape(input_shape)\n",
    "\n",
    "    def compute_output_shape(self, input_shape):\n",
    "        output_len = input_shape[2]\n",
    "        if self.return_attention:\n",
    "            return [(input_shape[0], output_len), (input_shape[0], input_shape[1])]\n",
    "        return (input_shape[0], output_len)\n",
    "\n",
    "    def compute_mask(self, input, input_mask=None):\n",
    "        if isinstance(input_mask, list):\n",
    "            return [None] * len(input_mask)\n",
    "        else:\n",
    "            return None"
   ]
  },
  {
   "cell_type": "code",
   "execution_count": 235,
   "metadata": {},
   "outputs": [],
   "source": [
    "rclf = RelationClassifier(input_length=50, n_rel=n_relations, maximum_words=15000)"
   ]
  },
  {
   "cell_type": "markdown",
   "metadata": {},
   "source": [
    "Using SemEval-2010 Task 8 dataset as training and testing it on FMEA dataset. "
   ]
  },
  {
   "cell_type": "code",
   "execution_count": 236,
   "metadata": {},
   "outputs": [
    {
     "name": "stdout",
     "output_type": "stream",
     "text": [
      "Fit text model with 4 classes\n",
      "Train on 3391 samples, validate on 233 samples\n",
      "Epoch 1/2\n",
      "3391/3391 [==============================] - 218s 64ms/step - loss: 1.1317 - acc: 0.4845 - val_loss: nan - val_acc: 0.5279\n",
      "Epoch 2/2\n",
      "3391/3391 [==============================] - 213s 63ms/step - loss: 0.8812 - acc: 0.6494 - val_loss: nan - val_acc: 0.4764\n"
     ]
    }
   ],
   "source": [
    "rclf.fit(X=train_sent, y=train_rel, X_val=test_sent, y_val=test_rel,\n",
    "         batch_size=2, lr=0.001, epochs=2)"
   ]
  },
  {
   "cell_type": "code",
   "execution_count": 237,
   "metadata": {},
   "outputs": [],
   "source": [
    "import matplotlib.pyplot as plt\n",
    "plt.style.use(\"ggplot\")\n",
    "%matplotlib inline"
   ]
  },
  {
   "cell_type": "code",
   "execution_count": 238,
   "metadata": {},
   "outputs": [],
   "source": [
    "y_pred = rclf.predict(test_sent)\n",
    "y_attn = rclf._get_attention_map(test_sent)"
   ]
  },
  {
   "cell_type": "markdown",
   "metadata": {},
   "source": [
    "Checking the probablities of attention "
   ]
  },
  {
   "cell_type": "code",
   "execution_count": 239,
   "metadata": {},
   "outputs": [
    {
     "data": {
      "image/png": "[encoded data removed]",
      "text/plain": [
       "<Figure size 576x576 with 2 Axes>"
      ]
     },
     "metadata": {
      "needs_background": "light"
     },
     "output_type": "display_data"
    }
   ],
   "source": [
    "i = 1\n",
    "activation_map = np.expand_dims(y_attn[i][:len(test_sent[i].split())], axis=1)\n",
    "\n",
    "f = plt.figure(figsize=(8, 8))\n",
    "ax = f.add_subplot(1, 1, 1)\n",
    "\n",
    "img = ax.imshow(activation_map, interpolation='none', cmap='gray')\n",
    "\n",
    "plt.xlim([0,0.5])\n",
    "ax.set_aspect(0.1)\n",
    "ax.set_yticks(range(len(test_sent[i].split())))\n",
    "ax.set_yticklabels(test_sent[i].split());\n",
    "ax.grid()\n",
    "plt.title(\"Attention map of sample {}\\nTrue relation: {}\\nPredicted relation: {}\"\n",
    "          .format(i, test_rel[i], rclf.encoder.classes_[y_pred[i]]));\n",
    "\n",
    "# add colorbar\n",
    "cbaxes = f.add_axes([0.2, 0, 0.6, 0.03]);\n",
    "cbar = f.colorbar(img, cax=cbaxes, orientation='horizontal');\n",
    "cbar.ax.set_xlabel('Probability', labelpad=2);"
   ]
  },
  {
   "cell_type": "code",
   "execution_count": 240,
   "metadata": {},
   "outputs": [],
   "source": [
    "from sklearn.metrics import f1_score, classification_report, accuracy_score"
   ]
  },
  {
   "cell_type": "code",
   "execution_count": 241,
   "metadata": {},
   "outputs": [],
   "source": [
    "y_test_pred = rclf.predict(test_sent)"
   ]
  },
  {
   "cell_type": "code",
   "execution_count": 242,
   "metadata": {},
   "outputs": [],
   "source": [
    "label_idx_to_use = [i for i, c in enumerate(list(rclf.encoder.classes_)) if  c !=\"Other\"]\n",
    "label_to_use = list(rclf.encoder.classes_)\n",
    "#label_to_use.remove(\"Other\")"
   ]
  },
  {
   "cell_type": "markdown",
   "metadata": {},
   "source": [
    "Check F1-score "
   ]
  },
  {
   "cell_type": "code",
   "execution_count": 243,
   "metadata": {},
   "outputs": [
    {
     "name": "stdout",
     "output_type": "stream",
     "text": [
      "F1-Score: 50.1%\n"
     ]
    }
   ],
   "source": [
    "print(\"F1-Score: {:.1%}\"\n",
    "      .format(f1_score(rclf.encoder.transform(test_rel), y_test_pred,\n",
    "                       average=\"macro\", labels=label_idx_to_use)))"
   ]
  },
  {
   "cell_type": "markdown",
   "metadata": {},
   "source": [
    "Due to lack of test sample we see that relations \"Component-Whole\" and \"Product-Producer\" have a low f1-score. "
   ]
  },
  {
   "cell_type": "code",
   "execution_count": 244,
   "metadata": {},
   "outputs": [
    {
     "name": "stdout",
     "output_type": "stream",
     "text": [
      "                    precision    recall  f1-score   support\n",
      "\n",
      "      Cause-Effect       0.59      0.56      0.57        79\n",
      "   Component-Whole       0.69      0.15      0.24        75\n",
      "Entity-Destination       0.82      0.82      0.82        34\n",
      "  Product-Producer       0.26      0.62      0.37        45\n",
      "\n",
      "          accuracy                           0.48       233\n",
      "         macro avg       0.59      0.54      0.50       233\n",
      "      weighted avg       0.59      0.48      0.46       233\n",
      "\n"
     ]
    }
   ],
   "source": [
    "print(classification_report(rclf.encoder.transform(test_rel), y_test_pred,\n",
    "                            target_names=label_to_use,\n",
    "                            labels=label_idx_to_use))"
   ]
  },
  {
   "cell_type": "code",
   "execution_count": null,
   "metadata": {},
   "outputs": [],
   "source": []
  }
 ],
 "metadata": {
  "kernelspec": {
   "display_name": "Python 3",
   "language": "python",
   "name": "python3"
  },
  "language_info": {
   "codemirror_mode": {
    "name": "ipython",
    "version": 3
   },
   "file_extension": ".py",
   "mimetype": "text/x-python",
   "name": "python",
   "nbconvert_exporter": "python",
   "pygments_lexer": "ipython3",
   "version": "3.7.4"
  }
 },
 "nbformat": 4,
 "nbformat_minor": 2
}
